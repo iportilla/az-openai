{
 "cells": [
  {
   "cell_type": "code",
   "execution_count": 1,
   "id": "6a3bdba7",
   "metadata": {},
   "outputs": [],
   "source": [
    "\n",
    "#Azure openAI lab"
   ]
  },
  {
   "cell_type": "code",
   "execution_count": 2,
   "id": "5e9ea2a3",
   "metadata": {},
   "outputs": [
    {
     "name": "stdout",
     "output_type": "stream",
     "text": [
      "Requirement already satisfied: openai in /Users/jportilla/.local/lib/python3.11/site-packages (1.54.4)\n",
      "Requirement already satisfied: anyio<5,>=3.5.0 in /Users/jportilla/anaconda3/envs/3.11/lib/python3.11/site-packages (from openai) (4.3.0)\n",
      "Requirement already satisfied: distro<2,>=1.7.0 in /Users/jportilla/anaconda3/envs/3.11/lib/python3.11/site-packages (from openai) (1.9.0)\n",
      "Requirement already satisfied: httpx<1,>=0.23.0 in /Users/jportilla/anaconda3/envs/3.11/lib/python3.11/site-packages (from openai) (0.27.0)\n",
      "Requirement already satisfied: jiter<1,>=0.4.0 in /Users/jportilla/anaconda3/envs/3.11/lib/python3.11/site-packages (from openai) (0.7.0)\n",
      "Requirement already satisfied: pydantic<3,>=1.9.0 in /Users/jportilla/anaconda3/envs/3.11/lib/python3.11/site-packages (from openai) (2.9.2)\n",
      "Requirement already satisfied: sniffio in /Users/jportilla/anaconda3/envs/3.11/lib/python3.11/site-packages (from openai) (1.3.1)\n",
      "Requirement already satisfied: tqdm>4 in /Users/jportilla/anaconda3/envs/3.11/lib/python3.11/site-packages (from openai) (4.66.2)\n",
      "Requirement already satisfied: typing-extensions<5,>=4.11 in /Users/jportilla/anaconda3/envs/3.11/lib/python3.11/site-packages (from openai) (4.12.2)\n",
      "Requirement already satisfied: idna>=2.8 in /Users/jportilla/anaconda3/envs/3.11/lib/python3.11/site-packages (from anyio<5,>=3.5.0->openai) (2.10)\n",
      "Requirement already satisfied: certifi in /Users/jportilla/anaconda3/envs/3.11/lib/python3.11/site-packages (from httpx<1,>=0.23.0->openai) (2024.8.30)\n",
      "Requirement already satisfied: httpcore==1.* in /Users/jportilla/anaconda3/envs/3.11/lib/python3.11/site-packages (from httpx<1,>=0.23.0->openai) (1.0.5)\n",
      "Requirement already satisfied: h11<0.15,>=0.13 in /Users/jportilla/anaconda3/envs/3.11/lib/python3.11/site-packages (from httpcore==1.*->httpx<1,>=0.23.0->openai) (0.14.0)\n",
      "Requirement already satisfied: annotated-types>=0.6.0 in /Users/jportilla/anaconda3/envs/3.11/lib/python3.11/site-packages (from pydantic<3,>=1.9.0->openai) (0.6.0)\n",
      "Requirement already satisfied: pydantic-core==2.23.4 in /Users/jportilla/anaconda3/envs/3.11/lib/python3.11/site-packages (from pydantic<3,>=1.9.0->openai) (2.23.4)\n"
     ]
    }
   ],
   "source": [
    "!pip install openai"
   ]
  },
  {
   "cell_type": "code",
   "execution_count": 2,
   "id": "2bcd2351",
   "metadata": {},
   "outputs": [
    {
     "data": {
      "text/plain": [
       "True"
      ]
     },
     "execution_count": 2,
     "metadata": {},
     "output_type": "execute_result"
    }
   ],
   "source": [
    "#load .env file\n",
    "import os\n",
    "import dotenv\n",
    "\n",
    "import os\n",
    "import dotenv\n",
    "import openai\n",
    "from openai import AzureOpenAI\n",
    "\n",
    "#read .env variables\n",
    "from dotenv import load_dotenv\n",
    "load_dotenv()\n"
   ]
  },
  {
   "cell_type": "code",
   "execution_count": 3,
   "id": "018a36c6",
   "metadata": {},
   "outputs": [],
   "source": [
    "\n",
    "\n",
    "AZURE_OPENAI_API_KEY = os.getenv(\"AZURE_OPENAI_API_KEY\")\n",
    "AZURE_OPENAI_ENDPOINT = os.getenv(\"AZURE_OPENAI_ENDPOINT\")\n",
    "# print(AZURE_OPENAI_ENDPOINT)\n",
    "\n",
    "# api_version = \"2023-05-15\"\n",
    "API_VERSION = \"2024-06-01\""
   ]
  },
  {
   "cell_type": "code",
   "execution_count": 7,
   "id": "b5cc066f",
   "metadata": {},
   "outputs": [
    {
     "name": "stdout",
     "output_type": "stream",
     "text": [
      "Yes, many Azure AI services support customer managed keys for enhanced security and control over encryption keys.\n"
     ]
    }
   ],
   "source": [
    "\n",
    "\n",
    "client = AzureOpenAI(\n",
    "  azure_endpoint = AZURE_OPENAI_ENDPOINT, \n",
    "  api_key=AZURE_OPENAI_API_KEY,  \n",
    "  api_version=API_VERSION\n",
    ")\n",
    "\n",
    "response = client.chat.completions.create(\n",
    "    model=\"gpt-35-turbo\", # model = \"deployment_name\".\n",
    "    messages=[\n",
    "        {\"role\": \"system\", \"content\": \"You are a helpful assistant.\"},\n",
    "        {\"role\": \"user\", \"content\": \"Does Azure OpenAI support customer managed keys?\"},\n",
    "        {\"role\": \"assistant\", \"content\": \"Yes, customer managed keys are supported by Azure OpenAI.\"},\n",
    "        {\"role\": \"user\", \"content\": \"Do other Azure AI services support this too?\"}\n",
    "    ]\n",
    ")\n",
    "\n",
    "print(response.choices[0].message.content)"
   ]
  },
  {
   "cell_type": "code",
   "execution_count": 9,
   "id": "016e0167",
   "metadata": {},
   "outputs": [],
   "source": [
    "# {\n",
    "#   \"choices\": [\n",
    "#     {\n",
    "#       \"finish_reason\": \"stop\",\n",
    "#       \"index\": 0,\n",
    "#       \"message\": {\n",
    "#         \"content\": \"Yes, most of the Azure AI services support customer managed keys. However, not all services support it. You can check the documentation of each service to confirm if customer managed keys are supported.\",\n",
    "#         \"role\": \"assistant\"\n",
    "#       }\n",
    "#     }\n",
    "#   ],\n",
    "#   \"created\": 1679001781,\n",
    "#   \"id\": \"chatcmpl-6upLpNYYOx2AhoOYxl9UgJvF4aPpR\",\n",
    "#   \"model\": \"gpt-3.5-turbo-0301\",\n",
    "#   \"object\": \"chat.completion\",\n",
    "#   \"usage\": {\n",
    "#     \"completion_tokens\": 39,\n",
    "#     \"prompt_tokens\": 58,\n",
    "#     \"total_tokens\": 97\n",
    "#   }\n",
    "# }\n",
    "# Yes, most of the Azure AI services support customer managed keys. However, not all services support it. You can check the documentation of each service to confirm if customer managed keys are supported."
   ]
  },
  {
   "cell_type": "code",
   "execution_count": null,
   "id": "beb294af",
   "metadata": {},
   "outputs": [],
   "source": []
  }
 ],
 "metadata": {
  "kernelspec": {
   "display_name": "3.11",
   "language": "python",
   "name": "python3"
  },
  "language_info": {
   "codemirror_mode": {
    "name": "ipython",
    "version": 3
   },
   "file_extension": ".py",
   "mimetype": "text/x-python",
   "name": "python",
   "nbconvert_exporter": "python",
   "pygments_lexer": "ipython3",
   "version": "3.11.8"
  }
 },
 "nbformat": 4,
 "nbformat_minor": 5
}
