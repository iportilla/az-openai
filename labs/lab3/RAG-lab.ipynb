{
 "cells": [
  {
   "cell_type": "code",
   "execution_count": 1,
   "id": "6a3bdba7",
   "metadata": {},
   "outputs": [],
   "source": [
    "\n",
    "#Azure openAI lab"
   ]
  },
  {
   "cell_type": "code",
   "execution_count": 1,
   "id": "5e9ea2a3",
   "metadata": {},
   "outputs": [
    {
     "name": "stdout",
     "output_type": "stream",
     "text": [
      "Requirement already satisfied: openai in /Users/jportilla/.local/lib/python3.11/site-packages (1.54.4)\n",
      "Requirement already satisfied: anyio<5,>=3.5.0 in /Users/jportilla/anaconda3/envs/3.11/lib/python3.11/site-packages (from openai) (4.3.0)\n",
      "Requirement already satisfied: distro<2,>=1.7.0 in /Users/jportilla/anaconda3/envs/3.11/lib/python3.11/site-packages (from openai) (1.9.0)\n",
      "Requirement already satisfied: httpx<1,>=0.23.0 in /Users/jportilla/anaconda3/envs/3.11/lib/python3.11/site-packages (from openai) (0.27.0)\n",
      "Requirement already satisfied: jiter<1,>=0.4.0 in /Users/jportilla/anaconda3/envs/3.11/lib/python3.11/site-packages (from openai) (0.7.0)\n",
      "Requirement already satisfied: pydantic<3,>=1.9.0 in /Users/jportilla/anaconda3/envs/3.11/lib/python3.11/site-packages (from openai) (2.9.2)\n",
      "Requirement already satisfied: sniffio in /Users/jportilla/anaconda3/envs/3.11/lib/python3.11/site-packages (from openai) (1.3.1)\n",
      "Requirement already satisfied: tqdm>4 in /Users/jportilla/anaconda3/envs/3.11/lib/python3.11/site-packages (from openai) (4.66.2)\n",
      "Requirement already satisfied: typing-extensions<5,>=4.11 in /Users/jportilla/anaconda3/envs/3.11/lib/python3.11/site-packages (from openai) (4.12.2)\n",
      "Requirement already satisfied: idna>=2.8 in /Users/jportilla/anaconda3/envs/3.11/lib/python3.11/site-packages (from anyio<5,>=3.5.0->openai) (2.10)\n",
      "Requirement already satisfied: certifi in /Users/jportilla/anaconda3/envs/3.11/lib/python3.11/site-packages (from httpx<1,>=0.23.0->openai) (2024.8.30)\n",
      "Requirement already satisfied: httpcore==1.* in /Users/jportilla/anaconda3/envs/3.11/lib/python3.11/site-packages (from httpx<1,>=0.23.0->openai) (1.0.5)\n",
      "Requirement already satisfied: h11<0.15,>=0.13 in /Users/jportilla/anaconda3/envs/3.11/lib/python3.11/site-packages (from httpcore==1.*->httpx<1,>=0.23.0->openai) (0.14.0)\n",
      "Requirement already satisfied: annotated-types>=0.6.0 in /Users/jportilla/anaconda3/envs/3.11/lib/python3.11/site-packages (from pydantic<3,>=1.9.0->openai) (0.6.0)\n",
      "Requirement already satisfied: pydantic-core==2.23.4 in /Users/jportilla/anaconda3/envs/3.11/lib/python3.11/site-packages (from pydantic<3,>=1.9.0->openai) (2.23.4)\n"
     ]
    }
   ],
   "source": [
    "!pip install openai"
   ]
  },
  {
   "cell_type": "code",
   "execution_count": 2,
   "id": "08119f4f",
   "metadata": {},
   "outputs": [
    {
     "name": "stdout",
     "output_type": "stream",
     "text": [
      "Requirement already satisfied: requests in /Users/jportilla/anaconda3/envs/3.11/lib/python3.11/site-packages (2.32.3)\n",
      "Requirement already satisfied: charset-normalizer<4,>=2 in /Users/jportilla/anaconda3/envs/3.11/lib/python3.11/site-packages (from requests) (3.3.2)\n",
      "Requirement already satisfied: idna<4,>=2.5 in /Users/jportilla/anaconda3/envs/3.11/lib/python3.11/site-packages (from requests) (2.10)\n",
      "Requirement already satisfied: urllib3<3,>=1.21.1 in /Users/jportilla/anaconda3/envs/3.11/lib/python3.11/site-packages (from requests) (2.1.0)\n",
      "Requirement already satisfied: certifi>=2017.4.17 in /Users/jportilla/anaconda3/envs/3.11/lib/python3.11/site-packages (from requests) (2024.8.30)\n"
     ]
    }
   ],
   "source": [
    "!pip install requests\n",
    " "
   ]
  },
  {
   "cell_type": "code",
   "execution_count": 3,
   "id": "e4e835b7",
   "metadata": {},
   "outputs": [
    {
     "name": "stdout",
     "output_type": "stream",
     "text": [
      "Requirement already satisfied: pillow in /Users/jportilla/anaconda3/envs/3.11/lib/python3.11/site-packages (10.4.0)\n"
     ]
    }
   ],
   "source": [
    "!pip install pillow"
   ]
  },
  {
   "cell_type": "code",
   "execution_count": 1,
   "id": "2bcd2351",
   "metadata": {},
   "outputs": [
    {
     "data": {
      "text/plain": [
       "True"
      ]
     },
     "execution_count": 1,
     "metadata": {},
     "output_type": "execute_result"
    }
   ],
   "source": [
    "#load .env file\n",
    "import os\n",
    "import json\n",
    "import requests\n",
    "import time\n",
    "from openai import AzureOpenAI\n",
    "\n",
    "#read .env variables\n",
    "from dotenv import load_dotenv\n",
    "load_dotenv()\n"
   ]
  },
  {
   "cell_type": "code",
   "execution_count": 3,
   "id": "018a36c6",
   "metadata": {},
   "outputs": [],
   "source": [
    "\n",
    "\n",
    "AZURE_OPENAI_API_KEY = os.getenv(\"AZURE_OPENAI_API_KEY\")\n",
    "# AZURE_OPENAI_ENDPOINT = os.getenv(\"AZURE_OPENAI_ENDPOINT\")\n",
    "# print(AZURE_OPENAI_ENDPOINT)\n",
    "\n",
    "\n",
    "# api_version = \"2023-05-15\"\n",
    "API_VERSION = \"2024-05-01-preview\""
   ]
  },
  {
   "cell_type": "code",
   "execution_count": 3,
   "id": "b5cc066f",
   "metadata": {},
   "outputs": [],
   "source": [
    "client = AzureOpenAI(\n",
    "  azure_endpoint = AZURE_OPENAI_ENDPOINT, \n",
    "  api_key=AZURE_OPENAI_API_KEY,  \n",
    "  api_version=API_VERSION\n",
    ")"
   ]
  },
  {
   "cell_type": "code",
   "execution_count": 4,
   "id": "6d817c9c",
   "metadata": {},
   "outputs": [],
   "source": [
    "assistant = client.beta.assistants.create(\n",
    "  model=\"gpt-4o-mini\", # replace with model deployment name.\n",
    "  instructions=\"You are an AI assistant that can help answer Math questions\",\n",
    "  tools=[{\"type\":\"file_search\"}],\n",
    "  tool_resources={\"file_search\":{\"vector_store_ids\":[\"vs_nm0xbuM6tTPDZHXwpVPKMXO5\"]}},\n",
    "  temperature=1,\n",
    "  top_p=1\n",
    ")"
   ]
  },
  {
   "cell_type": "code",
   "execution_count": 5,
   "id": "b5f6dd8a",
   "metadata": {},
   "outputs": [
    {
     "name": "stdout",
     "output_type": "stream",
     "text": [
      "SyncCursorPage[Message](data=[Message(id='msg_GKtzwdqEabHX3V1Pg2m4JIi1', assistant_id='asst_6Dmmkd2vz8KLCLM7ksZX5ikt', attachments=[], completed_at=None, content=[TextContentBlock(text=Text(annotations=[FileCitationAnnotation(end_index=285, file_citation=FileCitation(file_id='assistant-3EKpx3Lfd4KK8k12ejhUY5'), start_index=273, text='【4:1†source】', type='file_citation'), FileCitationAnnotation(end_index=446, file_citation=FileCitation(file_id='assistant-3EKpx3Lfd4KK8k12ejhUY5'), start_index=434, text='【4:1†source】', type='file_citation'), FileCitationAnnotation(end_index=648, file_citation=FileCitation(file_id='assistant-3EKpx3Lfd4KK8k12ejhUY5'), start_index=636, text='【4:1†source】', type='file_citation'), FileCitationAnnotation(end_index=855, file_citation=FileCitation(file_id='assistant-3EKpx3Lfd4KK8k12ejhUY5'), start_index=843, text='【4:1†source】', type='file_citation'), FileCitationAnnotation(end_index=1053, file_citation=FileCitation(file_id='assistant-3EKpx3Lfd4KK8k12ejhUY5'), start_index=1041, text='【4:1†source】', type='file_citation')], value=\"The information regarding Ukraine from the uploaded document highlights Ukraine's ongoing conflict, particularly in relation to Russia. It points out that millions of Ukrainians and Russians have been killed or wounded due to this brutal conflict, which has no end in sight【4:1†source】. The United States has been a significant supporter of Ukraine's defense, providing hundreds of billions of dollars to help maintain its sovereignty【4:1†source】.\\n\\nAdditionally, a letter from President Volodymyr Zelenskyy indicated Ukraine's readiness to negotiate a peace deal, expressing that no one desires peace more than the Ukrainians themselves【4:1†source】. The document contrasts the financial contributions of the U.S. to Ukraine's defense with the amounts spent by Europe on Russian oil and gas, indicating a disparity in efforts to support Ukraine【4:1†source】.\\n\\nOverall, Ukraine is described as being in a harsh and tragic situation due to the ongoing conflict, with efforts for resolution being a prominent topic in discussions about its future【4:1†source】.\"), type='text')], created_at=1743990444, incomplete_at=None, incomplete_details=None, metadata={}, object='thread.message', role='assistant', run_id='run_OO7dSww9fbqXGKUbAnqE58MZ', status=None, thread_id='thread_vZzBkPm8XqaLxmkzwZxDbHmu'), Message(id='msg_HyAdJAyWEB0NLSA8xnEEptc2', assistant_id=None, attachments=[], completed_at=None, content=[TextContentBlock(text=Text(annotations=[], value='tell me about Ukraine'), type='text')], created_at=1743990442, incomplete_at=None, incomplete_details=None, metadata={}, object='thread.message', role='user', run_id=None, status=None, thread_id='thread_vZzBkPm8XqaLxmkzwZxDbHmu')], object='list', first_id='msg_GKtzwdqEabHX3V1Pg2m4JIi1', last_id='msg_HyAdJAyWEB0NLSA8xnEEptc2', has_more=False)\n"
     ]
    }
   ],
   "source": [
    "# Create a thread\n",
    "thread = client.beta.threads.create()\n",
    "\n",
    "# Add a user question to the thread\n",
    "message = client.beta.threads.messages.create(\n",
    "  thread_id=thread.id,\n",
    "  role=\"user\",\n",
    "  content=\"tell me about Ukraine\" # Replace this with your prompt\n",
    ")\n",
    "\n",
    "\n",
    "\n",
    "# Run the thread\n",
    "run = client.beta.threads.runs.create(\n",
    "  thread_id=thread.id,\n",
    "  assistant_id=assistant.id\n",
    ")\n",
    "\n",
    "# Looping until the run completes or fails\n",
    "while run.status in ['queued', 'in_progress', 'cancelling']:\n",
    "  time.sleep(1)\n",
    "  run = client.beta.threads.runs.retrieve(\n",
    "    thread_id=thread.id,\n",
    "    run_id=run.id\n",
    "  )\n",
    "\n",
    "if run.status == 'completed':\n",
    "  messages = client.beta.threads.messages.list(\n",
    "    thread_id=thread.id\n",
    "  )\n",
    "  print(messages)\n",
    "elif run.status == 'requires_action':\n",
    "  # the assistant requires calling some functions\n",
    "  # and submit the tool outputs back to the run\n",
    "  pass\n",
    "else:\n",
    "  print(run.status)"
   ]
  },
  {
   "cell_type": "code",
   "execution_count": 6,
   "id": "d8bfe603",
   "metadata": {},
   "outputs": [
    {
     "name": "stdout",
     "output_type": "stream",
     "text": [
      "Assistant: The information regarding Ukraine from the uploaded document highlights Ukraine's ongoing conflict, particularly in relation to Russia. It points out that millions of Ukrainians and Russians have been killed or wounded due to this brutal conflict, which has no end in sight【4:1†source】. The United States has been a significant supporter of Ukraine's defense, providing hundreds of billions of dollars to help maintain its sovereignty【4:1†source】.\n",
      "\n",
      "Additionally, a letter from President Volodymyr Zelenskyy indicated Ukraine's readiness to negotiate a peace deal, expressing that no one desires peace more than the Ukrainians themselves【4:1†source】. The document contrasts the financial contributions of the U.S. to Ukraine's defense with the amounts spent by Europe on Russian oil and gas, indicating a disparity in efforts to support Ukraine【4:1†source】.\n",
      "\n",
      "Overall, Ukraine is described as being in a harsh and tragic situation due to the ongoing conflict, with efforts for resolution being a prominent topic in discussions about its future【4:1†source】.\n",
      "User: tell me about Ukraine\n"
     ]
    }
   ],
   "source": [
    "# Parse and display the results from the SyncCursorPage[Message] object\n",
    "\n",
    "# Assuming `messages` contains the response from `client.beta.threads.messages.list`\n",
    "parsed_messages = []\n",
    "\n",
    "for message in messages.data:\n",
    "    if message.role == \"assistant\":\n",
    "        parsed_messages.append({\n",
    "            \"role\": message.role,\n",
    "            \"content\": message.content[0].text.value\n",
    "        })\n",
    "    elif message.role == \"user\":\n",
    "        parsed_messages.append({\n",
    "            \"role\": message.role,\n",
    "            \"content\": message.content[0].text.value\n",
    "        })\n",
    "\n",
    "# Print the parsed messages\n",
    "for msg in parsed_messages:\n",
    "    print(f\"{msg['role'].capitalize()}: {msg['content']}\")"
   ]
  },
  {
   "cell_type": "code",
   "execution_count": null,
   "id": "ea3995fa",
   "metadata": {},
   "outputs": [],
   "source": []
  }
 ],
 "metadata": {
  "kernelspec": {
   "display_name": "3.11",
   "language": "python",
   "name": "python3"
  },
  "language_info": {
   "codemirror_mode": {
    "name": "ipython",
    "version": 3
   },
   "file_extension": ".py",
   "mimetype": "text/x-python",
   "name": "python",
   "nbconvert_exporter": "python",
   "pygments_lexer": "ipython3",
   "version": "3.11.8"
  }
 },
 "nbformat": 4,
 "nbformat_minor": 5
}
