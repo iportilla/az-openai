{
 "cells": [
  {
   "cell_type": "code",
   "execution_count": 1,
   "id": "6a3bdba7",
   "metadata": {},
   "outputs": [],
   "source": [
    "\n",
    "#Azure openAI lab"
   ]
  },
  {
   "cell_type": "code",
   "execution_count": 2,
   "id": "5e9ea2a3",
   "metadata": {},
   "outputs": [
    {
     "name": "stdout",
     "output_type": "stream",
     "text": [
      "Requirement already satisfied: openai in /Users/jportilla/.local/lib/python3.11/site-packages (1.54.4)\n",
      "Requirement already satisfied: anyio<5,>=3.5.0 in /Users/jportilla/anaconda3/envs/3.11/lib/python3.11/site-packages (from openai) (4.3.0)\n",
      "Requirement already satisfied: distro<2,>=1.7.0 in /Users/jportilla/anaconda3/envs/3.11/lib/python3.11/site-packages (from openai) (1.9.0)\n",
      "Requirement already satisfied: httpx<1,>=0.23.0 in /Users/jportilla/anaconda3/envs/3.11/lib/python3.11/site-packages (from openai) (0.27.0)\n",
      "Requirement already satisfied: jiter<1,>=0.4.0 in /Users/jportilla/anaconda3/envs/3.11/lib/python3.11/site-packages (from openai) (0.7.0)\n",
      "Requirement already satisfied: pydantic<3,>=1.9.0 in /Users/jportilla/anaconda3/envs/3.11/lib/python3.11/site-packages (from openai) (2.9.2)\n",
      "Requirement already satisfied: sniffio in /Users/jportilla/anaconda3/envs/3.11/lib/python3.11/site-packages (from openai) (1.3.1)\n",
      "Requirement already satisfied: tqdm>4 in /Users/jportilla/anaconda3/envs/3.11/lib/python3.11/site-packages (from openai) (4.66.2)\n",
      "Requirement already satisfied: typing-extensions<5,>=4.11 in /Users/jportilla/anaconda3/envs/3.11/lib/python3.11/site-packages (from openai) (4.12.2)\n",
      "Requirement already satisfied: idna>=2.8 in /Users/jportilla/anaconda3/envs/3.11/lib/python3.11/site-packages (from anyio<5,>=3.5.0->openai) (2.10)\n",
      "Requirement already satisfied: certifi in /Users/jportilla/anaconda3/envs/3.11/lib/python3.11/site-packages (from httpx<1,>=0.23.0->openai) (2024.8.30)\n",
      "Requirement already satisfied: httpcore==1.* in /Users/jportilla/anaconda3/envs/3.11/lib/python3.11/site-packages (from httpx<1,>=0.23.0->openai) (1.0.5)\n",
      "Requirement already satisfied: h11<0.15,>=0.13 in /Users/jportilla/anaconda3/envs/3.11/lib/python3.11/site-packages (from httpcore==1.*->httpx<1,>=0.23.0->openai) (0.14.0)\n",
      "Requirement already satisfied: annotated-types>=0.6.0 in /Users/jportilla/anaconda3/envs/3.11/lib/python3.11/site-packages (from pydantic<3,>=1.9.0->openai) (0.6.0)\n",
      "Requirement already satisfied: pydantic-core==2.23.4 in /Users/jportilla/anaconda3/envs/3.11/lib/python3.11/site-packages (from pydantic<3,>=1.9.0->openai) (2.23.4)\n"
     ]
    }
   ],
   "source": [
    "!pip install openai"
   ]
  },
  {
   "cell_type": "code",
   "execution_count": 4,
   "id": "1e4c198a",
   "metadata": {},
   "outputs": [
    {
     "name": "stdout",
     "output_type": "stream",
     "text": [
      "Collecting azure-ai-projects\n",
      "  Downloading azure_ai_projects-1.0.0b8-py3-none-any.whl.metadata (14 kB)\n",
      "Requirement already satisfied: isodate>=0.6.1 in /Users/jportilla/anaconda3/envs/3.11/lib/python3.11/site-packages (from azure-ai-projects) (0.6.1)\n",
      "Requirement already satisfied: azure-core>=1.30.0 in /Users/jportilla/anaconda3/envs/3.11/lib/python3.11/site-packages (from azure-ai-projects) (1.32.0)\n",
      "Requirement already satisfied: typing-extensions>=4.12.2 in /Users/jportilla/anaconda3/envs/3.11/lib/python3.11/site-packages (from azure-ai-projects) (4.12.2)\n",
      "Requirement already satisfied: requests>=2.21.0 in /Users/jportilla/anaconda3/envs/3.11/lib/python3.11/site-packages (from azure-core>=1.30.0->azure-ai-projects) (2.32.3)\n",
      "Requirement already satisfied: six>=1.11.0 in /Users/jportilla/anaconda3/envs/3.11/lib/python3.11/site-packages (from azure-core>=1.30.0->azure-ai-projects) (1.16.0)\n",
      "Requirement already satisfied: charset-normalizer<4,>=2 in /Users/jportilla/anaconda3/envs/3.11/lib/python3.11/site-packages (from requests>=2.21.0->azure-core>=1.30.0->azure-ai-projects) (3.3.2)\n",
      "Requirement already satisfied: idna<4,>=2.5 in /Users/jportilla/anaconda3/envs/3.11/lib/python3.11/site-packages (from requests>=2.21.0->azure-core>=1.30.0->azure-ai-projects) (2.10)\n",
      "Requirement already satisfied: urllib3<3,>=1.21.1 in /Users/jportilla/anaconda3/envs/3.11/lib/python3.11/site-packages (from requests>=2.21.0->azure-core>=1.30.0->azure-ai-projects) (2.1.0)\n",
      "Requirement already satisfied: certifi>=2017.4.17 in /Users/jportilla/anaconda3/envs/3.11/lib/python3.11/site-packages (from requests>=2.21.0->azure-core>=1.30.0->azure-ai-projects) (2024.8.30)\n",
      "Downloading azure_ai_projects-1.0.0b8-py3-none-any.whl (190 kB)\n",
      "\u001b[2K   \u001b[90m━━━━━━━━━━━━━━━━━━━━━━━━━━━━━━━━━━━━━━━━\u001b[0m \u001b[32m190.8/190.8 kB\u001b[0m \u001b[31m3.9 MB/s\u001b[0m eta \u001b[36m0:00:00\u001b[0ma \u001b[36m0:00:01\u001b[0m\n",
      "\u001b[?25hInstalling collected packages: azure-ai-projects\n",
      "Successfully installed azure-ai-projects-1.0.0b8\n"
     ]
    }
   ],
   "source": [
    "!pip install azure-ai-projects"
   ]
  },
  {
   "cell_type": "code",
   "execution_count": 6,
   "id": "93410e14",
   "metadata": {},
   "outputs": [],
   "source": [
    "from azure.identity import DefaultAzureCredential\n",
    "\n",
    "credential = DefaultAzureCredential()"
   ]
  },
  {
   "cell_type": "code",
   "execution_count": null,
   "id": "44372d95",
   "metadata": {},
   "outputs": [
    {
     "name": "stdout",
     "output_type": "stream",
     "text": [
      "{'type': 'text', 'text': {'value': 'The solutions to the equation \\\\( X^2 + 5X - 6 = 0 \\\\) are again confirmed as \\\\( X = -6 \\\\) and \\\\( X = 1 \\\\). If you have any additional questions or need further assistance, feel free to ask!', 'annotations': []}}\n",
      "{'type': 'text', 'text': {'value': 'solve X2+5x-6 = 0', 'annotations': []}}\n",
      "{'type': 'text', 'text': {'value': 'solve X2+5x-6 = 0', 'annotations': []}}\n",
      "{'type': 'text', 'text': {'value': 'Sure! Here is the code used to solve the quadratic equation \\\\( X^2 + 5X - 6 = 0 \\\\):\\n\\n```python\\nimport numpy as np\\n\\n# Coefficients of the equation\\na = 1\\nb = 5\\nc = -6\\n\\n# Using the quadratic formula to find the roots\\nroots = np.roots([a, b, c])\\nprint(roots)\\n```\\n\\nThis code uses the `numpy` library to find the roots of the quadratic equation by passing the coefficients into the `np.roots` function.', 'annotations': []}}\n",
      "{'type': 'text', 'text': {'value': 'show code', 'annotations': []}}\n",
      "{'type': 'text', 'text': {'value': 'The solutions to the equation \\\\( X^2 + 5X - 6 = 0 \\\\) are \\\\( X = -6 \\\\) and \\\\( X = 1 \\\\).', 'annotations': []}}\n",
      "{'type': 'text', 'text': {'value': 'solve X2+5x-6 = 0', 'annotations': []}}\n"
     ]
    }
   ],
   "source": [
    "from azure.ai.projects import AIProjectClient\n",
    "from azure.identity import DefaultAzureCredential\n",
    "\n",
    "project_client = AIProjectClient.from_connection_string(\n",
    "    credential=DefaultAzureCredential(),\n",
    "    conn_str=\"\")\n",
    "\n",
    "#asst_Q2LgImI2IcarOcLIUKu2gqjS\n",
    "agent = project_client.agents.get_agent(\"\")\n",
    "\n",
    "thread = project_client.agents.get_thread(\"\")\n",
    "\n",
    "message = project_client.agents.create_message(\n",
    "    thread_id=thread.id,\n",
    "    role=\"user\",\n",
    "    content=\"solve X2+5x-6 = 0\"\n",
    ")\n",
    "\n",
    "# run = project_client.agents.create_and_process_run(\n",
    "    # thread_id=thread.id,\n",
    "    # assistant_id=agent.id)\n",
    "\n",
    "run = project_client.agents.create_and_process_run(\n",
    "    thread_id=thread.id,\n",
    "    agent_id=agent.id  # Corrected argument name\n",
    ")\n",
    "\n",
    "messages = project_client.agents.list_messages(thread_id=thread.id)\n",
    "\n",
    "for text_message in messages.text_messages:\n",
    "    print(text_message.as_dict())"
   ]
  },
  {
   "cell_type": "code",
   "execution_count": null,
   "id": "d92e54bb",
   "metadata": {},
   "outputs": [],
   "source": []
  }
 ],
 "metadata": {
  "kernelspec": {
   "display_name": "3.11",
   "language": "python",
   "name": "python3"
  },
  "language_info": {
   "codemirror_mode": {
    "name": "ipython",
    "version": 3
   },
   "file_extension": ".py",
   "mimetype": "text/x-python",
   "name": "python",
   "nbconvert_exporter": "python",
   "pygments_lexer": "ipython3",
   "version": "3.11.8"
  }
 },
 "nbformat": 4,
 "nbformat_minor": 5
}
