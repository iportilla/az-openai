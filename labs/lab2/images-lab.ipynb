{
 "cells": [
  {
   "cell_type": "code",
   "execution_count": 1,
   "id": "6a3bdba7",
   "metadata": {},
   "outputs": [],
   "source": [
    "\n",
    "#Azure openAI lab"
   ]
  },
  {
   "cell_type": "code",
   "execution_count": 1,
   "id": "5e9ea2a3",
   "metadata": {},
   "outputs": [
    {
     "name": "stdout",
     "output_type": "stream",
     "text": [
      "Requirement already satisfied: openai in /Users/jportilla/.local/lib/python3.11/site-packages (1.54.4)\n",
      "Requirement already satisfied: anyio<5,>=3.5.0 in /Users/jportilla/anaconda3/envs/3.11/lib/python3.11/site-packages (from openai) (4.3.0)\n",
      "Requirement already satisfied: distro<2,>=1.7.0 in /Users/jportilla/anaconda3/envs/3.11/lib/python3.11/site-packages (from openai) (1.9.0)\n",
      "Requirement already satisfied: httpx<1,>=0.23.0 in /Users/jportilla/anaconda3/envs/3.11/lib/python3.11/site-packages (from openai) (0.27.0)\n",
      "Requirement already satisfied: jiter<1,>=0.4.0 in /Users/jportilla/anaconda3/envs/3.11/lib/python3.11/site-packages (from openai) (0.7.0)\n",
      "Requirement already satisfied: pydantic<3,>=1.9.0 in /Users/jportilla/anaconda3/envs/3.11/lib/python3.11/site-packages (from openai) (2.9.2)\n",
      "Requirement already satisfied: sniffio in /Users/jportilla/anaconda3/envs/3.11/lib/python3.11/site-packages (from openai) (1.3.1)\n",
      "Requirement already satisfied: tqdm>4 in /Users/jportilla/anaconda3/envs/3.11/lib/python3.11/site-packages (from openai) (4.66.2)\n",
      "Requirement already satisfied: typing-extensions<5,>=4.11 in /Users/jportilla/anaconda3/envs/3.11/lib/python3.11/site-packages (from openai) (4.12.2)\n",
      "Requirement already satisfied: idna>=2.8 in /Users/jportilla/anaconda3/envs/3.11/lib/python3.11/site-packages (from anyio<5,>=3.5.0->openai) (2.10)\n",
      "Requirement already satisfied: certifi in /Users/jportilla/anaconda3/envs/3.11/lib/python3.11/site-packages (from httpx<1,>=0.23.0->openai) (2024.8.30)\n",
      "Requirement already satisfied: httpcore==1.* in /Users/jportilla/anaconda3/envs/3.11/lib/python3.11/site-packages (from httpx<1,>=0.23.0->openai) (1.0.5)\n",
      "Requirement already satisfied: h11<0.15,>=0.13 in /Users/jportilla/anaconda3/envs/3.11/lib/python3.11/site-packages (from httpcore==1.*->httpx<1,>=0.23.0->openai) (0.14.0)\n",
      "Requirement already satisfied: annotated-types>=0.6.0 in /Users/jportilla/anaconda3/envs/3.11/lib/python3.11/site-packages (from pydantic<3,>=1.9.0->openai) (0.6.0)\n",
      "Requirement already satisfied: pydantic-core==2.23.4 in /Users/jportilla/anaconda3/envs/3.11/lib/python3.11/site-packages (from pydantic<3,>=1.9.0->openai) (2.23.4)\n"
     ]
    }
   ],
   "source": [
    "!pip install openai"
   ]
  },
  {
   "cell_type": "code",
   "execution_count": 2,
   "id": "08119f4f",
   "metadata": {},
   "outputs": [
    {
     "name": "stdout",
     "output_type": "stream",
     "text": [
      "Requirement already satisfied: requests in /Users/jportilla/anaconda3/envs/3.11/lib/python3.11/site-packages (2.32.3)\n",
      "Requirement already satisfied: charset-normalizer<4,>=2 in /Users/jportilla/anaconda3/envs/3.11/lib/python3.11/site-packages (from requests) (3.3.2)\n",
      "Requirement already satisfied: idna<4,>=2.5 in /Users/jportilla/anaconda3/envs/3.11/lib/python3.11/site-packages (from requests) (2.10)\n",
      "Requirement already satisfied: urllib3<3,>=1.21.1 in /Users/jportilla/anaconda3/envs/3.11/lib/python3.11/site-packages (from requests) (2.1.0)\n",
      "Requirement already satisfied: certifi>=2017.4.17 in /Users/jportilla/anaconda3/envs/3.11/lib/python3.11/site-packages (from requests) (2024.8.30)\n"
     ]
    }
   ],
   "source": [
    "!pip install requests\n",
    " "
   ]
  },
  {
   "cell_type": "code",
   "execution_count": 3,
   "id": "e4e835b7",
   "metadata": {},
   "outputs": [
    {
     "name": "stdout",
     "output_type": "stream",
     "text": [
      "Requirement already satisfied: pillow in /Users/jportilla/anaconda3/envs/3.11/lib/python3.11/site-packages (10.4.0)\n"
     ]
    }
   ],
   "source": [
    "!pip install pillow"
   ]
  },
  {
   "cell_type": "code",
   "execution_count": 1,
   "id": "2bcd2351",
   "metadata": {},
   "outputs": [
    {
     "data": {
      "text/plain": [
       "True"
      ]
     },
     "execution_count": 1,
     "metadata": {},
     "output_type": "execute_result"
    }
   ],
   "source": [
    "#load .env file\n",
    "import os\n",
    "import dotenv\n",
    "\n",
    "import os\n",
    "import dotenv\n",
    "import openai\n",
    "from openai import AzureOpenAI\n",
    "# from azure.identity import DefaultAzureCredential, get_bearer_token_provider\n",
    "\n",
    "import requests\n",
    "from PIL import Image\n",
    "import json\n",
    "\n",
    "\n",
    "#read .env variables\n",
    "from dotenv import load_dotenv\n",
    "load_dotenv()\n"
   ]
  },
  {
   "cell_type": "code",
   "execution_count": 2,
   "id": "018a36c6",
   "metadata": {},
   "outputs": [],
   "source": [
    "\n",
    "\n",
    "AZURE_OPENAI_API_KEY = os.getenv(\"AZURE_OPENAI_API_KEY\")\n",
    "AZURE_OPENAI_ENDPOINT = os.getenv(\"AZURE_OPENAI_ENDPOINT\")\n",
    "# print(AZURE_OPENAI_ENDPOINT)\n",
    "\n",
    "# api_version = \"2023-05-15\"\n",
    "API_VERSION = \"2024-02-01\""
   ]
  },
  {
   "cell_type": "code",
   "execution_count": 6,
   "id": "b5cc066f",
   "metadata": {},
   "outputs": [],
   "source": [
    "client = AzureOpenAI(\n",
    "  azure_endpoint = AZURE_OPENAI_ENDPOINT, \n",
    "  api_key=AZURE_OPENAI_API_KEY,  \n",
    "  api_version=API_VERSION\n",
    ")"
   ]
  },
  {
   "cell_type": "code",
   "execution_count": 7,
   "id": "6d817c9c",
   "metadata": {},
   "outputs": [],
   "source": [
    "result = client.images.generate(\n",
    "    model=\"dall-e-3\", # the name of your DALL-E 3 deployment\n",
    "    prompt=\"a close-up of a bear walking throughthe forest\",\n",
    "    n=1\n",
    ")"
   ]
  },
  {
   "cell_type": "code",
   "execution_count": 10,
   "id": "b5f6dd8a",
   "metadata": {},
   "outputs": [],
   "source": [
    "json_response = json.loads(result.model_dump_json())\n",
    "\n",
    "# Set the directory for the stored image\n",
    "image_dir = os.path.join(os.curdir, 'images')\n",
    "\n",
    "# If the directory doesn't exist, create it\n",
    "if not os.path.isdir(image_dir):\n",
    "    os.mkdir(image_dir)\n",
    "\n",
    "# Initialize the image path (note the filetype should be png)\n",
    "image_path = os.path.join(image_dir, 'generated_image.png')\n",
    "\n",
    "# Retrieve the generated image\n",
    "image_url = json_response[\"data\"][0][\"url\"]  # extract image URL from response\n",
    "generated_image = requests.get(image_url).content  # download the image\n",
    "with open(image_path, \"wb\") as image_file:\n",
    "    image_file.write(generated_image)\n",
    "\n",
    "# Display the image in the default image viewer\n",
    "image = Image.open(image_path)\n",
    "image.show()"
   ]
  },
  {
   "cell_type": "code",
   "execution_count": null,
   "id": "d8bfe603",
   "metadata": {},
   "outputs": [],
   "source": []
  }
 ],
 "metadata": {
  "kernelspec": {
   "display_name": "3.11",
   "language": "python",
   "name": "python3"
  },
  "language_info": {
   "codemirror_mode": {
    "name": "ipython",
    "version": 3
   },
   "file_extension": ".py",
   "mimetype": "text/x-python",
   "name": "python",
   "nbconvert_exporter": "python",
   "pygments_lexer": "ipython3",
   "version": "3.11.8"
  }
 },
 "nbformat": 4,
 "nbformat_minor": 5
}
